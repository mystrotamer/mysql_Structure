{
 "cells": [
  {
   "cell_type": "markdown",
   "metadata": {},
   "source": [
    "---\n",
    "---"
   ]
  },
  {
   "cell_type": "markdown",
   "metadata": {},
   "source": [
    "# Database Structure"
   ]
  },
  {
   "cell_type": "code",
   "execution_count": null,
   "metadata": {},
   "outputs": [],
   "source": [
    "import mysql.connector\n",
    "\n",
    "db_name = 'Structure'\n",
    "user = 'root'\n",
    "password = '12345'\n",
    "host = 'localhost'\n",
    "port = 3306\n",
    "\n",
    "config = {\n",
    "    'user': user,\n",
    "    'password': password,\n",
    "    'host': host,\n",
    "    'port': port\n",
    "}\n",
    "\n",
    "try:\n",
    "    conn = mysql.connector.connect(**config)\n",
    "    cursor = conn.cursor()\n",
    "    \n",
    "    cursor.execute(f\"CREATE DATABASE IF NOT EXISTS {db_name}\")\n",
    "    print(f\"(CREATE DATABASE IF NOT EXISTS {db_name}) is ready.\")\n",
    "except mysql.connector.Error as err:\n",
    "    print(f\"Error: {err}\")\n",
    "finally:\n",
    "    cursor.close()\n",
    "    conn.close()\n",
    "\n",
    "print(f\"config = {config}\")\n"
   ]
  },
  {
   "cell_type": "markdown",
   "metadata": {},
   "source": [
    "---"
   ]
  },
  {
   "cell_type": "markdown",
   "metadata": {},
   "source": [
    "- db.connect"
   ]
  },
  {
   "cell_type": "code",
   "execution_count": null,
   "metadata": {},
   "outputs": [],
   "source": [
    "from peewee import *\n",
    "db = MySQLDatabase(database=db_name,\n",
    "                   user=user,\n",
    "                   password=password,\n",
    "                   host=host,\n",
    "                   port=port)\n",
    "\n",
    "db.connect()\n",
    "print(f\"Connected to the DB '{db.database}' successfully.\")"
   ]
  },
  {
   "cell_type": "markdown",
   "metadata": {},
   "source": [
    "---"
   ]
  },
  {
   "cell_type": "markdown",
   "metadata": {},
   "source": [
    "- Model"
   ]
  },
  {
   "cell_type": "code",
   "execution_count": null,
   "metadata": {},
   "outputs": [],
   "source": [
    "from peewee import Model\n",
    "\n",
    "class BaseModel(Model):\n",
    "    class Meta:\n",
    "        database = db\n",
    "        \n",
    "print(f\"{BaseModel} successfully.\")"
   ]
  },
  {
   "cell_type": "markdown",
   "metadata": {},
   "source": [
    "---"
   ]
  },
  {
   "cell_type": "markdown",
   "metadata": {},
   "source": [
    "## **Category Table**: Contains a single column for `name`."
   ]
  },
  {
   "cell_type": "code",
   "execution_count": null,
   "metadata": {},
   "outputs": [],
   "source": [
    "from peewee import CharField\n",
    "\n",
    "class Category(BaseModel):\n",
    "    name = CharField(unique=True)\n",
    "        \n",
    "print(f\"{Category} successfully.\")"
   ]
  },
  {
   "cell_type": "markdown",
   "metadata": {},
   "source": [
    "---"
   ]
  },
  {
   "cell_type": "markdown",
   "metadata": {},
   "source": [
    "## **Client Table**: Contains columns for `first_name`, `last_name`, `phone`, `address`, and `email`."
   ]
  },
  {
   "cell_type": "code",
   "execution_count": null,
   "metadata": {},
   "outputs": [],
   "source": [
    "from peewee import CharField\n",
    "\n",
    "# Assuming BaseModel and necessary imports are already defined\n",
    "class Client(BaseModel):\n",
    "    first_name = CharField()\n",
    "    last_name = CharField()\n",
    "    phone = CharField()\n",
    "    address = CharField()\n",
    "    email = CharField()\n",
    "    \n",
    "print(f\"{Client} successfully.\")"
   ]
  },
  {
   "cell_type": "markdown",
   "metadata": {},
   "source": [
    "---"
   ]
  },
  {
   "cell_type": "markdown",
   "metadata": {},
   "source": [
    "## - **Project Table**: Contains columns for \n",
    "- `name`,\n",
    "- `duration` (in days),\n",
    "- and foreign keys to `client` \n",
    "- and `category`.\n"
   ]
  },
  {
   "cell_type": "code",
   "execution_count": null,
   "metadata": {},
   "outputs": [],
   "source": [
    "from peewee import CharField, IntegerField, ForeignKeyField\n",
    "\n",
    "class Project(BaseModel):\n",
    "    name = CharField()\n",
    "    duration = IntegerField()\n",
    "    client = ForeignKeyField(Client, backref='projects')\n",
    "    category = ForeignKeyField(Category, backref='projects')\n",
    "\n",
    "print(f\"{Project} successfully.\")"
   ]
  },
  {
   "cell_type": "markdown",
   "metadata": {},
   "source": [
    "---"
   ]
  },
  {
   "cell_type": "markdown",
   "metadata": {},
   "source": [
    "- create_tables"
   ]
  },
  {
   "cell_type": "code",
   "execution_count": null,
   "metadata": {},
   "outputs": [],
   "source": [
    "db.connect\n",
    "db.create_tables([Category, Client, Project])\n",
    "\n",
    "table_names = db.get_tables()\n",
    "print(f\"create_tables{table_names} successfully.\")"
   ]
  },
  {
   "cell_type": "markdown",
   "metadata": {},
   "source": [
    "---"
   ]
  },
  {
   "cell_type": "markdown",
   "metadata": {},
   "source": [
    "---"
   ]
  },
  {
   "cell_type": "markdown",
   "metadata": {},
   "source": [
    "# **Data Insertion**:"
   ]
  },
  {
   "cell_type": "markdown",
   "metadata": {},
   "source": [
    "## - Insert sample data into `client`, `category`, and `project` tables."
   ]
  },
  {
   "cell_type": "markdown",
   "metadata": {},
   "source": [
    "### Category"
   ]
  },
  {
   "cell_type": "code",
   "execution_count": null,
   "metadata": {},
   "outputs": [],
   "source": [
    "from faker import Faker\n",
    "fake = Faker()\n",
    "\n",
    "category1 = Category.create(name=fake.name())\n",
    "\n",
    "\n",
    "print(f\"Insert {category1.name} successfully.\")"
   ]
  },
  {
   "cell_type": "markdown",
   "metadata": {},
   "source": [
    "### Client"
   ]
  },
  {
   "cell_type": "code",
   "execution_count": null,
   "metadata": {},
   "outputs": [],
   "source": [
    "from faker import Faker\n",
    "fake = Faker()\n",
    "client1 = Client.create(\n",
    "                first_name=fake.name(),\n",
    "                last_name=fake.name(),\n",
    "                phone=fake.phone_number(),\n",
    "                address=fake.address(),\n",
    "                email=fake.email()\n",
    "                )\n",
    "print(f\"Insert {client1.first_name} {client1.last_name} {client1.phone} {client1.address} {client1.email} successfully.\")"
   ]
  },
  {
   "cell_type": "markdown",
   "metadata": {},
   "source": [
    "### Project"
   ]
  },
  {
   "cell_type": "code",
   "execution_count": null,
   "metadata": {},
   "outputs": [],
   "source": [
    "from faker import Faker\n",
    "fake = Faker()\n",
    "import random\n",
    "project1 = Project.create(\n",
    "                  name=fake.company(),\n",
    "                  duration=random.randint(1, 365),\n",
    "                  client=client1,\n",
    "                  category=category1\n",
    "                  )\n",
    "print(f\"Insert {project1.name} {project1.duration} {project1.client} {project1.category}  successfully.\")"
   ]
  },
  {
   "cell_type": "markdown",
   "metadata": {},
   "source": [
    "---"
   ]
  },
  {
   "cell_type": "markdown",
   "metadata": {},
   "source": [
    "# . **Dummy Data**:\n",
    "   - Create dummy data (\n",
    "      - 20 projects,\n",
    "      - 5 categories,\n",
    "      - 20 clients) \n",
    "      using external sources (possibly a website) and save them as JSON or CSV files."
   ]
  },
  {
   "cell_type": "markdown",
   "metadata": {},
   "source": [
    "## csv Category"
   ]
  },
  {
   "cell_type": "markdown",
   "metadata": {},
   "source": [
    "### Dummy Data"
   ]
  },
  {
   "cell_type": "code",
   "execution_count": null,
   "metadata": {},
   "outputs": [],
   "source": [
    "import csv\n",
    "from faker import Faker\n",
    "\n",
    "fake = Faker()\n",
    "\n",
    "categories = [] \n",
    "\n",
    "def wcsv():\n",
    "    for _ in range(2,7): \n",
    "        data = {\n",
    "            \"name\": fake.name(),\n",
    "        }\n",
    "        categories.append(data) \n",
    "wcsv()\n",
    "   \n",
    "with open('categories.csv', 'w', newline='', encoding='utf-8') as csvfile:\n",
    "    fieldnames = [\"name\"]\n",
    "    writer = csv.DictWriter(csvfile, fieldnames=fieldnames)\n",
    "    \n",
    "    writer.writeheader()\n",
    "    for item in categories:\n",
    "        writer.writerow(item)\n",
    "    \n",
    "print(f\"{categories}Data has been written to data.csv\")\n"
   ]
  },
  {
   "cell_type": "markdown",
   "metadata": {},
   "source": [
    "### Insert"
   ]
  },
  {
   "cell_type": "code",
   "execution_count": null,
   "metadata": {},
   "outputs": [],
   "source": [
    "try:\n",
    "    with open('categories.csv', 'r', newline='', encoding='utf-8') as csvfile:\n",
    "        reader = csv.DictReader(csvfile)\n",
    "        for row in reader:\n",
    "            try:\n",
    "        \n",
    "                Category.create(name=row['name'])\n",
    "            except IntegrityError:\n",
    "        \n",
    "                print(f\"Category '{row['name']}' already exists.\")\n",
    "    print(f\"Total categories: {Category.select().count()}\")\n",
    "except Exception as e:\n",
    "    print(f\"An error occurred: {e}\")"
   ]
  },
  {
   "cell_type": "markdown",
   "metadata": {},
   "source": [
    "## csv Client"
   ]
  },
  {
   "cell_type": "markdown",
   "metadata": {},
   "source": [
    "### Dummy Data"
   ]
  },
  {
   "cell_type": "code",
   "execution_count": null,
   "metadata": {},
   "outputs": [],
   "source": [
    "import csv\n",
    "from faker import Faker\n",
    "\n",
    "fake = Faker()\n",
    "\n",
    "clients = [] \n",
    "\n",
    "def wcsv():\n",
    "    for _ in range(2,22): \n",
    "        data = {\n",
    "            'first_name':fake.name(),\n",
    "            'last_name':fake.name(),\n",
    "            'phone':fake.phone_number(),\n",
    "            'address':fake.address(),\n",
    "            'email':fake.email()\n",
    "        }\n",
    "        clients.append(data) \n",
    "wcsv()\n",
    "   \n",
    "with open('clients.csv', 'w', newline='', encoding='utf-8') as csvfile:\n",
    "    fieldnames = ['first_name','last_name','phone','address','email']\n",
    "    writer = csv.DictWriter(csvfile, fieldnames=fieldnames)\n",
    "    \n",
    "    writer.writeheader()\n",
    "    for item in clients:\n",
    "        writer.writerow(item)\n",
    "    \n",
    "print(f\"{clients}Data has been written to data.csv\")\n",
    "\n"
   ]
  },
  {
   "cell_type": "markdown",
   "metadata": {},
   "source": [
    "### Insert"
   ]
  },
  {
   "cell_type": "code",
   "execution_count": null,
   "metadata": {},
   "outputs": [],
   "source": [
    "with open('clients.csv', 'r', newline='', encoding='utf-8') as csvfile:\n",
    "    reader = csv.DictReader(csvfile)\n",
    "    for row in reader:\n",
    "\n",
    "        Client.create(\n",
    "            first_name=row['first_name'],\n",
    "            last_name=row['last_name'],\n",
    "            phone=row['phone'],\n",
    "            address=row['address'],\n",
    "            email=row['email']\n",
    "        )\n",
    "print(f\"{Client.select().count()}\")"
   ]
  },
  {
   "cell_type": "markdown",
   "metadata": {},
   "source": [
    "## csv Project"
   ]
  },
  {
   "cell_type": "code",
   "execution_count": null,
   "metadata": {},
   "outputs": [],
   "source": [
    "import csv\n",
    "from peewee import *\n",
    "from faker import Faker\n",
    "import random\n",
    "\n",
    "fake = Faker()\n",
    "\n",
    "projects = []\n",
    "\n",
    "def wcsv():\n",
    "    \n",
    "        \n",
    "    client_count = Client.select().count()\n",
    "    category_count = Category.select().count()\n",
    "    \n",
    "    for _ in range(20):  \n",
    "\n",
    "       \n",
    "        client = Client.select().offset(random.randint(0, client_count - 1)).first()\n",
    "        category = Category.select().offset(random.randint(0, category_count - 1)).first()\n",
    "\n",
    "  \n",
    "        data = {\n",
    "            'name': fake.company(),  \n",
    "            'duration': random.randint(1, 365),  \n",
    "            'client_id': client.id,\n",
    "            'category_id': category.id\n",
    "        }\n",
    "        projects.append(data)\n",
    "\n",
    "\n",
    "wcsv()\n",
    "\n",
    "\n",
    "with open('projects.csv', 'w', newline='', encoding='utf-8') as csvfile:\n",
    "    fieldnames = ['name', 'duration', 'client_id', 'category_id']\n",
    "    writer = csv.DictWriter(csvfile, fieldnames=fieldnames)\n",
    "    \n",
    "    writer.writeheader()\n",
    "    for item in projects:\n",
    "        writer.writerow(item)\n",
    "\n",
    "print(\"Data has been written to projects.csv\")\n"
   ]
  },
  {
   "cell_type": "markdown",
   "metadata": {},
   "source": [
    "---"
   ]
  },
  {
   "cell_type": "markdown",
   "metadata": {},
   "source": [
    "# . **Loading Data**:\n",
    "   - Load the dummy data into the database tables."
   ]
  },
  {
   "cell_type": "markdown",
   "metadata": {},
   "source": [
    "- Insert"
   ]
  },
  {
   "cell_type": "code",
   "execution_count": null,
   "metadata": {},
   "outputs": [],
   "source": [
    "with open('projects.csv', 'r', newline='', encoding='utf-8') as csvfile:\n",
    "    reader = csv.DictReader(csvfile)\n",
    "    for row in reader:\n",
    "\n",
    "        Project.create(\n",
    "            name=row['name'],\n",
    "            duration=row['duration'],\n",
    "            client=row['client_id'],\n",
    "            category=row['category_id']\n",
    "        )\n",
    "print(f\"{Project.select().count()}\")"
   ]
  },
  {
   "cell_type": "markdown",
   "metadata": {},
   "source": [
    "---"
   ]
  },
  {
   "cell_type": "markdown",
   "metadata": {},
   "source": [
    "# answer this questions"
   ]
  },
  {
   "cell_type": "code",
   "execution_count": null,
   "metadata": {},
   "outputs": [],
   "source": [
    "select_all=Project.select()\n",
    "for project in projects:  \n",
    "    print(project)"
   ]
  },
  {
   "cell_type": "markdown",
   "metadata": {},
   "source": [
    "---"
   ]
  },
  {
   "cell_type": "markdown",
   "metadata": {},
   "source": [
    "## - how many project for each client"
   ]
  },
  {
   "cell_type": "code",
   "execution_count": null,
   "metadata": {},
   "outputs": [],
   "source": [
    "from peewee import  fn\n",
    "query = (Project\n",
    "         .select(Client.first_name, fn.COUNT(Project.id).alias('project_count'))\n",
    "         .join(Client)\n",
    "         .group_by(Client.first_name))\n",
    "\n",
    "for result in query:\n",
    "    print(f'Client Name: {result.client.first_name}, Project Count: {result.project_count}')\n",
    "\n",
    "num_clients_with_projects = query.count()\n",
    "print(f'Number of clients with projects: {num_clients_with_projects}')\n"
   ]
  },
  {
   "cell_type": "markdown",
   "metadata": {},
   "source": [
    "---"
   ]
  },
  {
   "cell_type": "markdown",
   "metadata": {},
   "source": [
    "## - how many project in each category"
   ]
  },
  {
   "cell_type": "code",
   "execution_count": null,
   "metadata": {},
   "outputs": [],
   "source": [
    "from peewee import  fn\n",
    "query = (Project\n",
    "         .select(Category.name, fn.COUNT(Project.id).alias('project_count'))\n",
    "         .join(Category)\n",
    "         .group_by(Category.name))\n",
    "\n",
    "for result in query:\n",
    "    print(f'Category Name: {result.category.name}, Project Count: {result.project_count}')\n",
    "\n",
    "num_category_with_projects = query.count()\n",
    "print(f'Number of categorys with projects: {num_category_with_projects}')"
   ]
  },
  {
   "cell_type": "markdown",
   "metadata": {},
   "source": [
    "---"
   ]
  },
  {
   "cell_type": "markdown",
   "metadata": {},
   "source": [
    "## - how many project we have with duaration > 30 day"
   ]
  },
  {
   "cell_type": "code",
   "execution_count": null,
   "metadata": {},
   "outputs": [],
   "source": []
  },
  {
   "cell_type": "code",
   "execution_count": null,
   "metadata": {},
   "outputs": [],
   "source": [
    "duaration = (Project\n",
    "            .select()\n",
    "            .where(Project.duration > 30))\n",
    "\n",
    "for x in duaration:\n",
    "    print(x.name, x.duration)"
   ]
  },
  {
   "cell_type": "markdown",
   "metadata": {},
   "source": [
    "---"
   ]
  },
  {
   "cell_type": "markdown",
   "metadata": {},
   "source": [
    "## - what is the first project to finish"
   ]
  },
  {
   "cell_type": "code",
   "execution_count": null,
   "metadata": {},
   "outputs": [],
   "source": [
    "first_finish = (Project\n",
    "                .select()\n",
    "                .order_by(Project.duration.asc())\n",
    "                .first())\n",
    "print(first_finish.name, first_finish.duration)"
   ]
  },
  {
   "cell_type": "markdown",
   "metadata": {},
   "source": [
    "---"
   ]
  },
  {
   "cell_type": "markdown",
   "metadata": {},
   "source": [
    "## - what is the last project to finish"
   ]
  },
  {
   "cell_type": "code",
   "execution_count": null,
   "metadata": {},
   "outputs": [],
   "source": [
    "last_finish = (Project\n",
    "               .select()\n",
    "               .order_by(Project.duration.desc())\n",
    "               .first())\n",
    "print(last_finish.name, last_finish.duration)"
   ]
  },
  {
   "cell_type": "markdown",
   "metadata": {},
   "source": [
    "---"
   ]
  },
  {
   "cell_type": "markdown",
   "metadata": {},
   "source": [
    " - connection closed"
   ]
  },
  {
   "cell_type": "code",
   "execution_count": null,
   "metadata": {},
   "outputs": [],
   "source": [
    "if not db.is_closed():\n",
    "    db.close()\n",
    "    print(f\"DB {db_name} connection closed.\")\n",
    "else:\n",
    "    print(\"There are no open databases.\")\n",
    "    "
   ]
  },
  {
   "cell_type": "markdown",
   "metadata": {},
   "source": [
    "---"
   ]
  }
 ],
 "metadata": {
  "kernelspec": {
   "display_name": "Python 3",
   "language": "python",
   "name": "python3"
  },
  "language_info": {
   "codemirror_mode": {
    "name": "ipython",
    "version": 3
   },
   "file_extension": ".py",
   "mimetype": "text/x-python",
   "name": "python",
   "nbconvert_exporter": "python",
   "pygments_lexer": "ipython3",
   "version": "3.12.4"
  }
 },
 "nbformat": 4,
 "nbformat_minor": 2
}
